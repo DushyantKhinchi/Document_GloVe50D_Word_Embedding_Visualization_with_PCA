{
  "nbformat": 4,
  "nbformat_minor": 0,
  "metadata": {
    "colab": {
      "name": "Document_Word_Embedding_Visualization_with_PCA.ipynb",
      "provenance": [],
      "collapsed_sections": [],
      "include_colab_link": true
    },
    "kernelspec": {
      "name": "python3",
      "display_name": "Python 3"
    }
  },
  "cells": [
    {
      "cell_type": "markdown",
      "metadata": {
        "id": "view-in-github",
        "colab_type": "text"
      },
      "source": [
        "<a href=\"https://colab.research.google.com/github/DushyantKhinchi/Document_Word_Embedding_Visualization_with_PCA/blob/master/Document_Word_Embedding_Visualization_with_PCA.ipynb\" target=\"_parent\"><img src=\"https://colab.research.google.com/assets/colab-badge.svg\" alt=\"Open In Colab\"/></a>"
      ]
    },
    {
      "cell_type": "code",
      "metadata": {
        "id": "1xJxbellsXrm",
        "colab_type": "code",
        "colab": {
          "base_uri": "https://localhost:8080/",
          "height": 125
        },
        "outputId": "884799f5-e9bf-470d-9e87-47ec97882adb"
      },
      "source": [
        "#Importing Google Drive to access Dataset\n",
        "from google.colab import drive\n",
        "drive.mount('/content/drive')"
      ],
      "execution_count": null,
      "outputs": [
        {
          "output_type": "stream",
          "text": [
            "Go to this URL in a browser: https://accounts.google.com/o/oauth2/auth?client_id=947318989803-6bn6qk8qdgf4n4g3pfee6491hc0brc4i.apps.googleusercontent.com&redirect_uri=urn%3aietf%3awg%3aoauth%3a2.0%3aoob&response_type=code&scope=email%20https%3a%2f%2fwww.googleapis.com%2fauth%2fdocs.test%20https%3a%2f%2fwww.googleapis.com%2fauth%2fdrive%20https%3a%2f%2fwww.googleapis.com%2fauth%2fdrive.photos.readonly%20https%3a%2f%2fwww.googleapis.com%2fauth%2fpeopleapi.readonly\n",
            "\n",
            "Enter your authorization code:\n",
            "··········\n",
            "Mounted at /content/drive\n"
          ],
          "name": "stdout"
        }
      ]
    },
    {
      "cell_type": "code",
      "metadata": {
        "id": "PyQL_O0aspUl",
        "colab_type": "code",
        "colab": {
          "base_uri": "https://localhost:8080/",
          "height": 51
        },
        "outputId": "fe13c2b9-9bc3-4ddc-c4ca-0bf27d8004b9"
      },
      "source": [
        "#Checking if the files are available\n",
        "!ls \"drive/Shared drives/Adv Text Homework/HW3\""
      ],
      "execution_count": null,
      "outputs": [
        {
          "output_type": "stream",
          "text": [
            " espn.rtf\t    glove.6B.zip\t\t     ids566_hw3.ipynb   UIC.txt\n",
            " glove.6B.50d.txt  'glove.6B.zip (Unzipped Files)'   nyt.rtf\n"
          ],
          "name": "stdout"
        }
      ]
    },
    {
      "cell_type": "code",
      "metadata": {
        "id": "uCEh0aMpsxhg",
        "colab_type": "code",
        "colab": {
          "base_uri": "https://localhost:8080/",
          "height": 119
        },
        "outputId": "c58f0e06-5082-4c99-808c-1b0a25820325"
      },
      "source": [
        "#importing dependencies\n",
        "import nltk\n",
        "from collections import Counter\n",
        "nltk.download('punkt') # first-time use only\n",
        "nltk.download('averaged_perceptron_tagger')"
      ],
      "execution_count": null,
      "outputs": [
        {
          "output_type": "stream",
          "text": [
            "[nltk_data] Downloading package punkt to /root/nltk_data...\n",
            "[nltk_data]   Unzipping tokenizers/punkt.zip.\n",
            "[nltk_data] Downloading package averaged_perceptron_tagger to\n",
            "[nltk_data]     /root/nltk_data...\n",
            "[nltk_data]   Unzipping taggers/averaged_perceptron_tagger.zip.\n"
          ],
          "name": "stdout"
        },
        {
          "output_type": "execute_result",
          "data": {
            "text/plain": [
              "True"
            ]
          },
          "metadata": {
            "tags": []
          },
          "execution_count": 2
        }
      ]
    },
    {
      "cell_type": "code",
      "metadata": {
        "id": "FMGBddXOtGVz",
        "colab_type": "code",
        "colab": {}
      },
      "source": [
        "#function for creating pos tags\n",
        "def tags(file_path):\n",
        "  #load data\n",
        "  file = open(file_path, 'rt')\n",
        "  text = file.read()\n",
        "  file.close()\n",
        "  # split into words\n",
        "  tokens = nltk.word_tokenize(text)\n",
        "  pos_tags = nltk.pos_tag(tokens)\n",
        "  return pos_tags"
      ],
      "execution_count": null,
      "outputs": []
    },
    {
      "cell_type": "code",
      "metadata": {
        "id": "5ZK3RpLiurDO",
        "colab_type": "code",
        "colab": {}
      },
      "source": [
        "#getting pos tags\n",
        "espn_pos = tags(\"drive/Shared drives/Adv Text Homework/HW3/espn.rtf\")\n",
        "nyt_pos = tags(\"drive/Shared drives/Adv Text Homework/HW3/nyt.rtf\")\n",
        "uic_pos = tags(\"drive/Shared drives/Adv Text Homework/HW3/UIC.txt\")"
      ],
      "execution_count": null,
      "outputs": []
    },
    {
      "cell_type": "code",
      "metadata": {
        "id": "heOL3TFYroGv",
        "colab_type": "code",
        "colab": {}
      },
      "source": [
        "# creating key value pairs as mentioned in task <POS tag, its frequency/occurrences in the document)>\n",
        "key_val_espn = dict(Counter(tag for word,  tag in espn_pos))\n",
        "key_val_uic = dict(Counter(tag for word,  tag in uic_pos))\n",
        "key_val_nyt = dict(Counter(tag for word,  tag in nyt_pos))"
      ],
      "execution_count": null,
      "outputs": []
    },
    {
      "cell_type": "code",
      "metadata": {
        "id": "O42nsZss1WZ3",
        "colab_type": "code",
        "colab": {}
      },
      "source": [
        "#function for computing Similarity\n",
        "def jaccard_similarity(dict1, dict2):\n",
        "    s1 = set(dict1)\n",
        "    s2 = set(dict2)\n",
        "    return len(set(s1).intersection(s2)) / len(set(s1).union(s2))"
      ],
      "execution_count": null,
      "outputs": []
    },
    {
      "cell_type": "code",
      "metadata": {
        "id": "OFA9WF_JLwXN",
        "colab_type": "code",
        "colab": {
          "base_uri": "https://localhost:8080/",
          "height": 34
        },
        "outputId": "b9910296-c23a-4da7-9a81-203baf122512"
      },
      "source": [
        "#Similarity between ESPN and UIC docs\n",
        "espn_sim=jaccard_similarity(key_val_uic, key_val_espn)\n",
        "#Similarity between NYT and UIC docs\n",
        "nyt_sim=jaccard_similarity(key_val_uic, key_val_nyt)\n",
        "\n",
        "print(espn_sim)\n"
      ],
      "execution_count": null,
      "outputs": [
        {
          "output_type": "stream",
          "text": [
            "0.9024390243902439\n"
          ],
          "name": "stdout"
        }
      ]
    },
    {
      "cell_type": "code",
      "metadata": {
        "id": "I-PUsICO4C9g",
        "colab_type": "code",
        "colab": {
          "base_uri": "https://localhost:8080/",
          "height": 34
        },
        "outputId": "c110341b-18a9-478c-f605-d4974b3f1d4d"
      },
      "source": [
        "print(nyt_sim)"
      ],
      "execution_count": null,
      "outputs": [
        {
          "output_type": "stream",
          "text": [
            "0.9047619047619048\n"
          ],
          "name": "stdout"
        }
      ]
    },
    {
      "cell_type": "markdown",
      "metadata": {
        "id": "WEADlHAF3ohM",
        "colab_type": "text"
      },
      "source": [
        "# **Word Embedding Visualization**"
      ]
    },
    {
      "cell_type": "code",
      "metadata": {
        "id": "0CZzA6UP4-zP",
        "colab_type": "code",
        "colab": {
          "base_uri": "https://localhost:8080/",
          "height": 158
        },
        "outputId": "37fdaf87-ec5c-47fe-d8c0-5ce3cf4832fe"
      },
      "source": [
        "import pandas as pd\n",
        "import string\n",
        "import nltk\n",
        "from nltk.corpus import  stopwords\n",
        "nltk.download('punkt')\n",
        "nltk.download('averaged_perceptron_tagger')\n",
        "nltk.download('stopwords')\n",
        "from nltk.tokenize import word_tokenize, sent_tokenize \n",
        "from nltk.stem.porter import PorterStemmer\n",
        "import numpy as np\n",
        "import matplotlib.pyplot as plt"
      ],
      "execution_count": null,
      "outputs": [
        {
          "output_type": "stream",
          "text": [
            "[nltk_data] Downloading package punkt to /root/nltk_data...\n",
            "[nltk_data]   Package punkt is already up-to-date!\n",
            "[nltk_data] Downloading package averaged_perceptron_tagger to\n",
            "[nltk_data]     /root/nltk_data...\n",
            "[nltk_data]   Package averaged_perceptron_tagger is already up-to-\n",
            "[nltk_data]       date!\n",
            "[nltk_data] Downloading package stopwords to /root/nltk_data...\n",
            "[nltk_data]   Package stopwords is already up-to-date!\n"
          ],
          "name": "stdout"
        }
      ]
    },
    {
      "cell_type": "code",
      "metadata": {
        "id": "or3c4ldAMHWB",
        "colab_type": "code",
        "colab": {
          "base_uri": "https://localhost:8080/",
          "height": 52
        },
        "outputId": "f1933346-04dc-4682-8cb5-b5b232613812"
      },
      "source": [
        "#to download Glove word embedding file\n",
        "#import urllib.request\n",
        "#url = 'http://nlp.stanford.edu/data/glove.6B.zip'\n",
        "#urllib.request.urlretrieve(url, 'drive/Shared drives/Adv Text Homework/HW3/glove.6B.zip')\n"
      ],
      "execution_count": null,
      "outputs": [
        {
          "output_type": "execute_result",
          "data": {
            "text/plain": [
              "('drive/Shared drives/Adv Text Homework/HW3/glove.6B.zip',\n",
              " <http.client.HTTPMessage at 0x7f27a26e3940>)"
            ]
          },
          "metadata": {
            "tags": []
          },
          "execution_count": 14
        }
      ]
    },
    {
      "cell_type": "code",
      "metadata": {
        "id": "0yCMw1J8YkdK",
        "colab_type": "code",
        "colab": {}
      },
      "source": [
        "def read_data(file_name):\n",
        "    with open(file_name,'r') as f:\n",
        "        word_vocab = set() # not using list to avoid duplicate entry\n",
        "        word2vector = {}\n",
        "        for line in f:\n",
        "            line_ = line.strip() #Remove white space\n",
        "            words_Vec = line_.split()\n",
        "            word_vocab.add(words_Vec[0])\n",
        "            word2vector[words_Vec[0]] = np.array(words_Vec[1:],dtype=float)\n",
        "    print(\"Total Words in DataSet:\",len(word_vocab))\n",
        "    return word_vocab,word2vector"
      ],
      "execution_count": null,
      "outputs": []
    },
    {
      "cell_type": "code",
      "metadata": {
        "id": "ccKpNB495utK",
        "colab_type": "code",
        "colab": {
          "base_uri": "https://localhost:8080/",
          "height": 34
        },
        "outputId": "07c74184-c8a1-4bd6-9916-3a5ee2522eb2"
      },
      "source": [
        "vocab, w2v = read_data(\"drive/Shared drives/Adv Text Homework/HW3/glove.6B.50d.txt\")"
      ],
      "execution_count": null,
      "outputs": [
        {
          "output_type": "stream",
          "text": [
            "Total Words in DataSet: 400000\n"
          ],
          "name": "stdout"
        }
      ]
    },
    {
      "cell_type": "code",
      "metadata": {
        "id": "YJDznmnO8ebZ",
        "colab_type": "code",
        "colab": {}
      },
      "source": [
        "vocab = list(vocab)"
      ],
      "execution_count": null,
      "outputs": []
    },
    {
      "cell_type": "code",
      "metadata": {
        "id": "bptmpTugh2UX",
        "colab_type": "code",
        "colab": {}
      },
      "source": [
        "#from scipy import spatial\n",
        "#most similar words\n",
        "#def find_closest_embeddings(embedding):\n",
        "#    return sorted(embeddings_dict.keys(), key=lambda word: spatial.distance.euclidean(embeddings_dict[word], embedding))"
      ],
      "execution_count": null,
      "outputs": []
    },
    {
      "cell_type": "code",
      "metadata": {
        "id": "wOsQ36GRkOnD",
        "colab_type": "code",
        "colab": {
          "base_uri": "https://localhost:8080/",
          "height": 34
        },
        "outputId": "34e6b21b-c3e1-4cb9-9cce-18db1f6f3e0b"
      },
      "source": [
        "#find_closest_embeddings(w2v[\"king\"])[1:6]"
      ],
      "execution_count": null,
      "outputs": [
        {
          "output_type": "execute_result",
          "data": {
            "text/plain": [
              "['prince', 'queen', 'uncle', 'ii', 'grandson']"
            ]
          },
          "metadata": {
            "tags": []
          },
          "execution_count": 56
        }
      ]
    },
    {
      "cell_type": "code",
      "metadata": {
        "id": "lFsjSzVL2R62",
        "colab_type": "code",
        "colab": {}
      },
      "source": [
        "# textual data cleaning function\n",
        "def clean_text(rawfile):\n",
        "  words = rawfile.split()\n",
        "  table = str.maketrans('', '', string.punctuation)\n",
        "  #remove punctuation\n",
        "  stripped = [w.translate(table) for w in words]\n",
        "  #converting to lowercase\n",
        "  cleanfile = [s.lower() for s in stripped]\n",
        "  #keeping only alphabetical words\n",
        "  words = [word for word in stripped if word.isalpha()]\n",
        "  return cleanfile"
      ],
      "execution_count": null,
      "outputs": []
    },
    {
      "cell_type": "code",
      "metadata": {
        "id": "3-S-Hx-n3UzJ",
        "colab_type": "code",
        "colab": {}
      },
      "source": [
        "import string\n",
        "#loading files\n",
        "uic_text = open(\"drive/Shared drives/Adv Text Homework/HW3/UIC.txt\")\n",
        "uic = uic_text.read()\n",
        "uic = clean_text(uic)"
      ],
      "execution_count": null,
      "outputs": []
    },
    {
      "cell_type": "code",
      "metadata": {
        "id": "_3w70v8f4GJQ",
        "colab_type": "code",
        "colab": {}
      },
      "source": [
        "# Removing stopwords and stemming\n",
        "def stop_and_stem(textfile):\n",
        "  stopword = stopwords.words('english')\n",
        "  word = [w for w in textfile if not w in stopword]\n",
        "  print(word[:100])\n",
        "  #stemming\n",
        "  porter = PorterStemmer()\n",
        "  stemmed = [porter.stem(w) for w in word]\n",
        "  print(stemmed[:100])\n",
        "  return stemmed  \n",
        "  "
      ],
      "execution_count": null,
      "outputs": []
    },
    {
      "cell_type": "code",
      "metadata": {
        "id": "XbH3HmZJ4W72",
        "colab_type": "code",
        "colab": {
          "base_uri": "https://localhost:8080/",
          "height": 72
        },
        "outputId": "5a43388d-52eb-41a7-dcc9-7ebfdf20551e"
      },
      "source": [
        "uic_tidy = stop_and_stem(uic)"
      ],
      "execution_count": null,
      "outputs": [
        {
          "output_type": "stream",
          "text": [
            "['thank', '❤️', 'contributions', 'receive', 'community', 'readers', 'editors', 'donors', 'keep', 'us', 'strong', '2020', 'ask', 'humbly', 'help', 'us', 'improve', 'wikipedia', 'answering', 'questions', 'thanks', 'participationthis', 'survey', 'powered', 'thirdparty', 'service', 'please', 'see', 'survey', 'privacy', 'statement', 'university', 'illinois', 'chicago', 'wikipedia', 'free', 'encyclopedia', 'jump', 'navigationjump', 'search', 'university', 'illinois', 'chicago', 'redirects', 'private', 'university', 'chicago', 'see', 'university', 'chicago', 'university', 'illinois', 'chicago', 'university', 'illinois', 'chicago', 'circle', 'logosvg', 'motto', 'teach', 'research', 'serve', 'care', 'type', 'public', 'aanapisi1', 'hsi2', 'established', '1982', 'academic', 'affiliations', 'universities', 'research', 'association', 'great', 'cities', 'universities', 'endowment', '228', 'billion', 'entire', 'u', 'system3', 'chancellor', 'michael', 'amiridis4', 'president', 'timothy', 'l', 'killeen5', 'provost', 'susan', 'poser6', 'academic', 'staff', '2817', 'students', '333907', 'undergraduates', '21641']\n",
            "['thank', '❤️', 'contribut', 'receiv', 'commun', 'reader', 'editor', 'donor', 'keep', 'us', 'strong', '2020', 'ask', 'humbl', 'help', 'us', 'improv', 'wikipedia', 'answer', 'question', 'thank', 'participationthi', 'survey', 'power', 'thirdparti', 'servic', 'pleas', 'see', 'survey', 'privaci', 'statement', 'univers', 'illinoi', 'chicago', 'wikipedia', 'free', 'encyclopedia', 'jump', 'navigationjump', 'search', 'univers', 'illinoi', 'chicago', 'redirect', 'privat', 'univers', 'chicago', 'see', 'univers', 'chicago', 'univers', 'illinoi', 'chicago', 'univers', 'illinoi', 'chicago', 'circl', 'logosvg', 'motto', 'teach', 'research', 'serv', 'care', 'type', 'public', 'aanapisi1', 'hsi2', 'establish', '1982', 'academ', 'affili', 'univers', 'research', 'associ', 'great', 'citi', 'univers', 'endow', '228', 'billion', 'entir', 'u', 'system3', 'chancellor', 'michael', 'amiridis4', 'presid', 'timothi', 'l', 'killeen5', 'provost', 'susan', 'poser6', 'academ', 'staff', '2817', 'student', '333907', 'undergradu', '21641']\n"
          ],
          "name": "stdout"
        }
      ]
    },
    {
      "cell_type": "code",
      "metadata": {
        "id": "H-0cZ8Xq5IFs",
        "colab_type": "code",
        "colab": {}
      },
      "source": [
        "def intersection(lst1, lst2): \n",
        "    lst3 = [value for value in lst1 if value in lst2] \n",
        "    return lst3 "
      ],
      "execution_count": null,
      "outputs": []
    },
    {
      "cell_type": "code",
      "metadata": {
        "id": "9FV6-D7Z5Ind",
        "colab_type": "code",
        "colab": {
          "base_uri": "https://localhost:8080/",
          "height": 54
        },
        "outputId": "62b93f83-9e5d-46f7-e8be-cb669645fb54"
      },
      "source": [
        "print(intersection(uic_tidy, vocab)) "
      ],
      "execution_count": null,
      "outputs": [
        {
          "output_type": "stream",
          "text": [
            "['thank', 'commun', 'reader', 'editor', 'donor', 'keep', 'us', 'strong', '2020', 'ask', 'help', 'us', 'improv', 'wikipedia', 'answer', 'question', 'thank', 'survey', 'power', 'pleas', 'see', 'survey', 'statement', 'univers', 'chicago', 'wikipedia', 'free', 'encyclopedia', 'jump', 'search', 'univers', 'chicago', 'redirect', 'privat', 'univers', 'chicago', 'see', 'univers', 'chicago', 'univers', 'chicago', 'univers', 'chicago', 'motto', 'teach', 'research', 'serv', 'care', 'type', 'public', 'establish', '1982', 'univers', 'research', 'great', 'citi', 'univers', 'endow', '228', 'billion', 'u', 'chancellor', 'michael', 'l', 'provost', 'susan', 'staff', 'student', 'chicago', 'unit', 'state', 'urban', '244', 'acr', '987', 'ha', 'color', 'indigo', 'blue', 'flame', 'flame', 'sport', 'ncaa', 'divis', '–', 'horizon', 'mascot', 'dragon', 'univers', 'chicago', 'univers', 'chicago', 'uic', 'public', 'research', 'univers', 'chicago', 'near', 'west', 'side', 'commun', 'area', 'chicago', 'loop', 'second', 'establish', 'univers', 'system', 'uic', 'also', 'largest', 'univers', 'chicago', 'area', 'enrol', '16', 'uic', 'ncaa', 'divis', 'horizon', 'uic', 'flame', 'sport', 'credit', 'union', '1', 'arena', 'uic', 'pavilion', 'flame', 'venu', 'home', 'game', 'content', '1', '11', 'begin', '12', 'navi', 'pier', '13', 'congress', '14', '2', '21', 'organ', '22', '23', 'rank', 'statist', '231', 'overal', '232', 'research', '233', 'subject', 'area', '–', '234', 'divers', '3', '31', 'student', 'hous', '32', 'student', 'facil', '33', 'medic', 'center', '34', '35', 'sustain', '4', '5', 'student', 'life', '51', 'spark', 'park', '52', 'greek', 'life', '521', '522', 'soror', '523', 'co', '53', 'student', 'media', '6', 'alumni', '7', 'see', 'also', '8', 'refer', '9', 'extern', 'link', 'begin', 'univers', 'chicago', 'trace', 'origin', 'sever', 'privat', 'health', 'found', 'late', '19th', 'includ', 'chicago', 'open', '1859', 'physician', 'surgeon', '1882', 'columbian', 'univers', 'charter', '1867', 'state', 'univers', 'agre', 'promis', 'branch', 'would', 'open', 'health', 'univers', 'univers', '1913', 'medic', 'educ', 'research', 'expand', 'succeed', 'lead', 'develop', 'sever', 'health', 'brought', 'chicago', 'profession', '1935', 'first', 'act', 'elect', 'state', 'richard', 'j', 'daley', 'call', 'establish', 'chicago', 'univers', 'navi', 'pier', 'world', 'war', 'ii', 'draw', 'close', 'congress', 'pass', 'gi', 'bill', '1944', 'sought', 'reward', 'veteran', 'militari', 'among', 'benefit', 'provid', 'educ', 'fund', 'make', 'far', 'attain', 'american', 'public', '1945', 'daley', 'state', 'senat', 'four', 'bill', 'call', 'univers', '1946', 'would', 'univers', 'open', 'branch', 'call', 'chicago', 'divis', 'cud', 'navi', 'junior', 'rather', 'curriculum', 'base', 'urbana', 'cours', 'student', 'success', 'complet', 'first', 'two', 'year', 'could', 'go', 'urbana', 'finish', 'class', 'cud', 'began', '1946', '4000', 'student', 'enrol', 'harvard', 'rock', 'student', 'veteran', 'gi', 'bill', 'mani', 'work', 'job', 'support', 'also', 'student', 'work', 'home', 'navi', 'pier', 'make', 'appear', 'robert', 'pirsig', 'zen', 'art', 'protagonist', 'taught', 'freshman', 'english', 'demand', 'public', 'univers', 'educ', 'chicago', 'remain', 'high', 'univers', 'made', 'plan', 'creat', 'perman', 'chicago', 'area', 'inde', 'school', 'student', 'univers', 'navi', 'pier', 'need', 'transfer', 'privat', 'chicago', 'go', 'main', 'fewer', 'job', '1963', 'model', 'congress', 'daley', 'succeed', 'get', 'state', 'senat', '1951', 'pass', 'bill', 'call', 'chicago', 'daley', 'mayor', 'chicago', '1955', 'press', 'univers', 'chicago', 'center', 'long', 'site', '1961', 'mayor', 'daley', 'offer', 'harrison', 'street', 'site', 'new', '1961', 'final', 'establish', 'univers', 'chicago', 'made', 'year', 'chicago', 'profession', 'univers', 'medic', 'center', '1963', 'construct', 'began', 'univers', 'new', 'chicago', 'harrison', 'street', 'ground', 'former', 'greektown', 'chicago', '1965', 'new', 'chicago', 'open', 'name', 'univers', 'congress', 'uicc', 'open', 'congress', 'expressway', 'expressway', 'univers', 'chicago', 'uicc', 'uicc', 'design', 'brutalist', 'style', 'walter', 'netsch', 'owe', 'merril', 'firm', 'mani', 'today', 'tallest', 'cud', 'institut', 'within', 'five', 'year', 'open', 'virtual', 'depart', 'offer', '1982', 'univers', 'system', 'uicc', 'form', 'univers', 'chicago', '2000', 'uic', 'began', 'develop', 'south', 'uic', 'south', 'roosevelt', 'road', 'live', 'space', 'research', 'april', '2019', 'worker', 'school', 'avoid', 'strike', 'day', 'professor', 'walk', 'new', 'contract', 'agreement', 'year', 'found', '1859', '1882', '1891', 'liber', 'art', '1946', 'engin', '1946', 'design', 'art', '1946', '1951', '1965', 'social', 'work', '1965', 'busi', '1965', 'educ', '1965', 'public', 'health', '1970', 'urban', 'plan', 'public', 'affair', '1973', 'health', '1979', 'honor', '1982', 'john', 'marshal', 'law', 'school', '2019', 'univers', 'hall', 'uic', 'east', 'one', 'ten', 'chicagoan', 'uic', 'one', 'eight', 'physician', 'uic', 'nation', 'largest', 'medic', 'school', 'one', 'three', 'pharmacist', 'half', 'dentist', 'uic', 'organ', 'univers', 'chicago', 'offer', '86', 'bachelor', '111', 'master', '66', 'doctor', '16', 'univers', 'special', 'honor', 'student', 'uic', 'offer', 'eleven', 'program', 'organ', 'center', 'cancer', 'center', 'center', 'program', 'council', 'teacher', 'educ', 'educ', 'medic', 'profession', 'program', 'program', 'move', 'art', 'program', 'nation', 'center', 'excel', 'women', 'health', 'intern', 'affair', 'studi', 'abroad', 'special', 'scholarship', 'program', 'univers', 'govern', 'chancellor', 'support', 'seven', 'vice', 'chancellor', 'one', 'ceo', 'function', 'fifteen', 'dean', 'dean', 'three', 'region', 'dean', 'uic', 'east', 'student', 'bodi', 'uic', 'consist', '30000', 'total', 'student', 'statist', 'student', 'bodi', '2018', 'race', 'number', 'white', '326', 'asian', '183', 'nativ', 'hi', 'island', '28', '01', 'race', '257', 'black', '78', 'nativ', 'nativ', '21', '01', 'two', 'race', '857', '27', 'intern', '121', 'unknown', '216', '07', 'chancellor', 'oper', 'six', 'committe', 'asian', 'american', 'black', 'latino', 'lgbt', 'person', 'women', 'uic', 'divers', 'us', 'news', 'world', 'report', 'rank', 'uic', 'top', '10', 'divers', 'univers', 'rank', 'statist', 'univers', 'rank', 'nation', '294', '132', 'us', 'news', 'world', '129', 'washington', '26', 'global', '187', '200', 'us', 'news', 'world', '174', 'school', 'educ', '54', 'engin', '65', 'care', '67', 'research', '52', 'doctor', '12', 'master', '18', 'overal', '2019', 'us', 'news', 'world', 'report', 'rank', 'univers', 'univers', 'chicago', 'rank', '129th', 'best', 'nation', '61st', 'best', 'nation', 'public', '2018', 'washington', 'rank', 'nation', 'univers', 'uic', 'rank', '26th', 'best', 'nation', 'univers', 'rank', 'world', 'univers', 'place', 'uic', 'bracket', 'world', 'time', 'higher', 'educ', 'world', 'univers', 'rank', 'place', 'uic', '63rd', 'us', '200th', '2014', 'time', 'higher', 'educ', '100', '50', 'univers', 'comparison', 'univers', 'less', '50', 'year', 'old', 'place', 'uic', '3rd', 'posit', 'us', '13th', 'qs', 'univers', 'rank', 'place', 'uic', '186th', 'posit', 'forb', 'rank', 'univers', 'chicago', '361st', '650', 'univers', 'america', 'top', '2014', 'research', 'uic', 'among', 'r1', 'doctor', 'univers', '–', 'high', 'research', 'subject', 'area', '–', '2012', 'rank', 'institut', 'higher', 'educ', 'shanghai', 'uic', 'tie', 'subject', 'area', 'social', 'subject', 'area', 'subject', 'area', 'natur', 'us', 'news', 'world', 'report', '2015', 'rank', 'publish', '2014', 'univers', 'chicago', 'liautaud', 'school', 'busi', 'rank', '92nd', 'among', 'best', 'busi', 'school', 'mba', 'mani', 'program', 'rank', 'top', '50', 'overal', 'program', 'rank', 'us', 'news', 'world', 'report', '2013', 'includ', 'clinic', '42', '19', 'educ', '38', 'english', '41', 'fine', 'art', '45', '36', '36', '11', '4', '14', 'physic', '16', 'public', 'affair', '37', 'public', 'health', '16', 'social', 'work', '24', '41', 'june', '2007', 'commun', 'publish', 'rank', 'program', 'base', 'recent', 'public', 'list', 'rank', 'uic', '34th', 'tie', 'caltech', 'among', 'top', '50', 'us', 'program', 'princeton', 'review', 'entrepreneur', 'magazin', 'survey', '700', 'american', 'school', 'rank', 'uic', 'entrepreneurship', 'program', '9th', '12th', '2008', 'us', 'news', 'world', 'report', 'rank', 'uic', 'busi', 'program', '58th', 'engin', 'program', '57th', 'unit', 'state', 'us', 'news', 'world', 'report', 'also', 'rank', 'uic', 'mba', '24th', '300', 'program', 'nation', 'program', '19th', 'program', 'rank', 'account', '28th', '17th', '2010', '2010', 'princeton', 'review', 'rank', 'uic', 'top', '50', 'game', 'design', 'program', '700', 'univers', 'us', 'canada', 'criteria', 'includ', 'curriculum', 'facil', 'princeton', 'review', 'also', 'look', 'data', 'scholarship', 'aid', 'career', 'divers', 'univers', 'chicago', 'feder', 'design', 'serv', 'institut', 'hsi', 'among', 'ethnic', 'divers', 'univers', 'unit', 'jane', 'museum', 'uic', 'chicago', 'largest', 'univers', 'student', '12000', '16', 'state', 'major', 'public', 'medic', 'center', 'east', 'design', 'brutalist', 'style', 'walter', 'plan', 'includ', 'walkway', 'connect', 'later', 'build', 'netsch', 'design', 'rectilinear', 'behavior', 'build', 'even', 'shape', 'engin', 'south', 'art', 'build', 'idea', 'field', 'design', 'use', 'one', 'build', 'intact', 'walkway', 'taken', 'phase', '1990', 'make', 'consider', 'effort', 'expend', 'origin', 'netsch', 'plan', 'creat', 'feel', 'area', 'front', 'main', 'build', 'univers', 'hall', 'site', 'sever', 'last', 'credit', 'union', '1', 'arena', 'uic', 'pavilion', 'sport', 'arena', 'ad', '1982', 'east', 'near', 'west', 'side', 'south', 'greektown', 'walk', 'downtown', 'chicago', 'direct', 'result', 'urban', 'renew', 'led', 'mayor', 'richard', 'j', 'west', 'also', 'near', 'west', 'side', 'much', 'older', 'includ', 'build', 'built', 'gothic', 'style', 'health', 'public', 'health', 'well', 'health', 'west', 'west', 'heart', 'medic', 'district', 'univers', 'medic', 'center', 'chicago', 'transit', 'author', 'blue', 'line', 'part', 'chicago', 'l', 'run', 'median', 'expressway', 'along', 'north', 'side', 'three', 'blue', 'line', 'station', 'close', 'univers', 'racin', 'medic', 'district', 'pink', 'line', 'serv', 'uic', 'west', 'polk', 'street', 'run', 'transport', 'center', 'student', 'hous', 'uic', 'jame', 'tower', 'hall', 'downtown', 'chicago', 'willi', 'tower', 'background', 'uic', 'offer', '9', 'hall', 'student', 'east', 'contain', 'four', 'hall', 'south', 'contain', 'three', 'west', 'contain', 'three', 'south', 'uic', 'student', 'still', 'work', 'chang', 'one', 'student', '6000', 'student', 'live', 'within', 'mile', '3800', 'student', 'includ', 'half', 'freshmen', 'live', 'uic', '9', 'also', 'thousand', 'apart', 'within', 'walk', 'class', 'east', 'common', 'west', 'common', 'south', 'hall', 'room', 'open', 'common', 'hallway', 'floor', 'share', 'common', 'bathroom', 'courtyard', 'common', 'north', 'build', 'room', 'group', 'share', 'small', 'privat', 'bathroom', 'four', 'build', 'connect', 'student', 'center', 'east', 'hous', 'cafeteria', 'store', 'barber', 'shop', 'inner', 'fast', 'food', 'west', 'hous', 'compos', 'student', 'ssr', 'apart', 'student', 'polk', 'street', 'cluster', 'style', 'room', 'south', 'home', 'mari', 'robinson', 'hall', 'thoma', 'beckham', 'hall', 'apart', 'style', 'build', 'fall', '2007', 'jame', 'tower', 'open', 'contain', 'suit', 'style', 'room', 'bathroom', 'live', 'room', 'keep', 'uic', 'student', 'often', 'refer', 'hall', 'instead', 'full', 'name', 'eg', 'instead', 'thoma', 'beckham', 'hall', 'main', 'ssr', 'hous', 'student', 'student', 'age', '24', 'older', 'profession', 'student', 'third', 'fourth', 'floor', 'hous', 'student', 'age', '21', '23', 'hous', '16th', 'floor', 'fifth', 'floor', 'ssr', 'pilot', 'program', 'student', 'program', 'hous', '15', 'program', 'zone', 'chicago', 'public', 'live', 'ssr', 'assign', 'washington', 'irv', 'school', 'crane', 'high', 'student', 'facil', 'uic', 'student', 'facil', 'srf', 'complex', 'uic', 'student', 'open', 'spring', '2006', 'srf', 'climb', 'wall', 'court', 'game', 'pool', 'adjoin', 'lazi', 'river', 'medic', 'center', 'univers', 'offer', 'program', 'lead', 'md', 'three', 'differ', 'site', 'chicago', 'peoria', 'rockford', 'uic', 'major', 'part', 'medic', 'district', 'imd', 'imd', 'bill', 'nation', 'largest', 'urban', 'medic', 'district', 'may', 'debat', 'district', 'major', '33', 'billion', 'local', 'support', '50000', 'job', 'popular', 'uic', 'medic', 'school', 'cook', 'seri', 'er', 'grant', 'hall', 'major', '550', 'million', 'south', 'univers', 'began', 'exist', 'facil', 'part', 'due', 'constrain', 'state', 'budget', 'state', 'fund', 'new', 'build', 'sinc', 'less', 'approach', 'use', 'facil', 'first', 'three', 'origin', 'pillbox', 'build', 'grant', 'hall', 'lincoln', 'hall', 'build', 'use', 'solar', 'power', 'dig', 'well', '500', 'feet', 'ground', 'east', 'univers', 'hall', 'energi', 'save', 'led', 'lincoln', 'hall', 'hall', 'us', 'leed', 'gold', 'grant', 'hall', 'leed', 'even', 'though', 'mani', 'found', 'lincoln', '70', 'new', 'fascia', 'glass', 'build', 'contain', 'facil', 'student', 'plan', 'expand', 'project', 'hall', 'cluster', 'pilot', 'program', 'success', 'includ', 'roof', 'behavior', 'build', 'educ', 'perform', 'art', 'social', 'work', 'sustain', 'univers', 'sustain', 'found', 'januari', 'current', 'sustain', 'includ', 'light', 'build', 'envelop', 'improv', 'meter', 'wast', 'recent', 'work', 'grant', 'lincoln', 'hall', 'includ', 'use', 'heat', 'pump', 'heat', 'cool', 'build', 'univers', 'climat', 'action', '–', 'rockford', 'engin', 'build', 'univers', 'hall', 'east', 'fall', 'uic', 'main', 'uic', 'flame', 'uic', 'team', 'name', 'flame', 'refer', 'great', 'chicago', 'fire', 'start', 'block', 'east', 'mascot', 'dragon', '2006', 'men', 'soccer', 'team', 'earn', 'highest', 'rank', 'school', 'coach', 'poll', 'peg', 'flame', '6', '2006', 'uic', 'defeat', 'western', 'open', 'round', 'ncaa', 'tournament', 'fall', 'second', 'round', 'dame', 'uic', 'finish', '2006', 'season', 'nation', 'best', 'squad', 'allow', 'mere', 'eight', 'goal', '1993', 'play', '21', 'match', 'gaa', 'gaa', 'top', 'nation', '2006', 'also', 'rank', 'fifth', 'ncaa', 'uic', 'post', '13', 'shutout', 'never', 'allow', 'goal', 'match', 'uic', 'also', 'allow', 'two', 'goal', 'season', 'along', 'gaa', 'mark', 'uic', 'post', 'nation', 'best', 'save', 'rate', '2007', 'uic', 'soccer', 'success', 'season', 'appear', 'ncaa', 'tournament', 'way', 'win', '12', 'st', 'loui', 'northwestern', '8', 'creighton', 'bid', 'appear', 'uic', 'fell', 'massachusett', 'season', 'end', 'uic', 'record', 'name', 'top', '10', 'team', 'nation', 'soccer', 'coach', 'america', 'nscaa', 'uic', 'team', 'record', '30', 'stretch', '2001', '2010', 'seven', 'straight', 'horizon', 'championship', 'ncaa', 'region', 'four', 'time', '2003', '2005', '2007', '2008', 'uic', 'record', 'region', 'win', '1', 'long', 'beach', 'state', '2007', '2', 'dalla', 'baptist', 'univers', '2008', '1978', '1979', 'uic', 'men', 'gymnast', 'team', 'school', 'ncaa', 'team', 'divis', 'ii', 'championship', 'follow', '1979', 'season', 'men', 'gymnast', 'program', 'enter', 'divis', 'finish', 'season', 'rank', '10th', 'nation', 'success', '1980', 'season', 'uic', 'team', 'ascend', 'divis', 'statu', '1996', 'men', 'gymnast', 'team', 'finish', 'season', '9th', 'place', 'school', 'highest', 'final', 'rank', 'uic', 'men', 'gymnast', 'divis', 'america', 'honore', 'includ', 'paul', 'fina', 'ring', 'mike', 'costa', 'pommel', 'hors', 'twice', 'barri', 'mcdonald', 'parallel', 'bar', 'shannon', 'welker', 'floor', 'neil', 'faustino', 'vault', 'andrew', 'stover', 'bar', 'student', 'life', 'univers', 'chicago', 'uic', 'univers', 'near', 'neighborhood', 'taylor', 'street', 'greektown', 'pilsen', 'bar', 'downtown', 'chicago', 'walk', 'short', 'cta', 'ride', 'away', 'uic', '200', 'student', 'organ', 'sport', 'club', 'group', 'greek', 'soror', 'includ', 'account', 'club', 'greek', 'life', 'sport', 'group', 'profession', 'organ', 'invest', 'group', 'student', 'govern', 'student', 'govern', 'mock', 'trial', 'model', 'un', 'uic', 'hall', 'group', 'christian', 'muslim', 'jewish', 'hindu', 'et', 'al', 'german', 'student', 'uic', 'event', 'friday', 'night', 'live', 'uic', 'event', 'relay', 'life', 'recess', 'mini', 'organ', 'uic', 'fashion', 'show', 'black', 'month', 'uic', 'fest', 'spark', 'park', 'fun', 'fair', 'spark', 'park', 'spark', 'park', 'annual', 'music', 'held', 'harrison', 'field', 'harrison', 'except', '2014', '2015', 'held', 'uic', 'pavilion', 'due', 'construct', 'expressway', 'interst', '290', 'held', 'second', 'week', 'class', 'fall', 'first', 'year', 'held', '2010', 'kid', 'cudi', 'follow', 'lupe', 'fiasco', '2011', 'childish', 'gambino', '2012', 'kendrick', 'lamar', '2013', 'j', 'cole', '2014', '2015', 'one', 'pilot', 'also', 'wale', '2016', 'rapper', 'young', 'thug', 'open', 'act', 'follow', 'perform', 'daya', 'scott', '2017', 'nick', 'jona', 'perform', 'along', 'dram', 'greek', 'life', 'greek', 'letter', 'social', 'organ', 'univers', 'chicago', 'creat', 'smaller', 'commun', 'within', 'larger', 'univers', 'environ', 'growth', 'area', 'scholarship', 'person', 'leadership', 'develop', 'commun', 'creed', 'ritual', 'guid', 'organ', 'base', 'valu', 'ethic', 'foster', 'highest', 'ideal', 'organ', 'core', 'commun', 'sinc', '1970', 'current', '27', 'social', 'soror', 'includ', 'gener', 'base', 'alpha', 'epsilon', 'pi', 'alpha', 'phi', 'alpha', 'chi', 'sigma', 'tau', 'delta', 'epsilon', 'psi', 'iota', 'phi', 'theta', 'kappa', 'pi', 'beta', 'lambda', 'theta', 'phi', 'lambda', 'sigma', 'upsilon', 'omega', 'delta', 'omega', 'delta', 'phi', 'phi', 'beta', 'sigma', 'phi', 'kappa', 'psi', 'sigma', 'alpha', 'mu', 'sigma', 'lambda', 'beta', 'tau', 'kappa', 'beta', 'tau', 'phi', 'sigma', 'theta', 'lambda', 'beta', 'theta', 'xi', 'soror', 'alpha', 'kappa', 'alpha', 'alpha', 'kappa', 'delta', 'phi', 'alpha', 'phi', 'gamma', 'alpha', 'sigma', 'tau', 'chi', 'sigma', 'omega', 'delta', 'kappa', 'delta', 'delta', 'phi', 'epsilon', 'delta', 'phi', 'omega', 'delta', 'xi', 'phi', 'gamma', 'phi', 'omega', 'lambda', 'zeta', 'chi', 'lambda', 'theta', 'alpha', 'phi', 'sigma', 'sigma', 'sigma', 'gamma', 'rho', 'sigma', 'lambda', 'gamma', 'co', 'alpha', 'psi', 'lambda', 'alpha', 'phi', 'omega', 'omega', 'phi', 'alpha', 'psi', 'alpha', 'kappa', 'psi', 'delta', 'psi', 'alpha', 'delta', 'epsilon', 'mu', 'student', 'media', '234', 'magazin', '–', 'art', 'public', 'chicago', 'flame', 'pier', 'illini', '–', 'former', '–', 'former', 'media', 'site', 'uic', 'radio', '–', 'internet', 'base', 'radio', 'station', 'red', 'shoe', 'review', '–', 'review', 'art', 'magazin', 'journal', 'student', 'medic', 'journal', 'uic', 'oneworld', '–', 'journal', 'focus', 'social', 'uic', 'today', '–', 'former', 'hous', '–', 'tv', 'station', 'alumni', 'list', 'see', 'list', 'univers', 'chicago', 'see', 'also', 'chicago', 'portal', 'flag', 'portal', 'refer', 'asian', 'serv', 'institut', '13', '2017', 'us', 'member', 'institut', '13', '2017', 'nation', 'univers', 'busi', '2014', 'pdf', 'archiv', 'origin', 'pdf', '23', '2017', '15', '2015', 'senior', 'leadership', 'uic', 'chancellor', 'august', '5', '2016', '–', 'univers', 'august', '5', '2016', 'provost', 'vice', 'chancellor', 'affair', '21', '2015', 'uic', '28', '2019', 'univers', 'chicago', 'brand', 'pdf', '29', '2017', 'uic', 'record', 'growth', '5th', 'straight', 'year', 'uic', 'today', '29', '2019', 'uic', 'june', '28', '2017', 'uic', 'june', '28', '2017', 'univers', 'alumni', 'june', '21', '2015', 'grossman', 'ron', 'juli', '8', '2016', 'univers', 'navi', 'pier', 'open', '1946', 'serv', 'wwii', 'veteran', 'chicago', 'januari', '27', '2018', 'navi', 'pier', 'uic', 'historian', '16', '2007', 'gi', 'bill', 'uic', 'uic', 'historian', '16', '2007', 'perman', 'site', 'select', 'uic', 'historian', '16', '2007', 'chicago', 'construct', 'uic', 'historian', '16', '2007', 'uic', 'historian', '16', '2007', 'design', 'uic', 'archiv', 'exhibit', '24', '2017', 'ident', 'uic', 'school', '2', '2008', 'young', 'david', '2005', 'spaghetti', 'bowl', 'chicago', 'januari', '26', '2008', 'uic', 'historian', '16', '2007', 'east', 'met', 'west', 'uiaa', 'alumni', 'magazin', 'juli', '31', '2009', 'rhode', 'dawn', 'cherney', 'elyssa', 'univers', 'chicago', 'avoid', '2nd', 'strike', 'spring', 'reach', 'tent', 'contract', 'deal', 'archiv', '6', '2007', 'wayback', 'machin', '1', 'archiv', '28', '2012', 'wayback', 'machin', 'uic', '17', '2019', 'uic', 'univers', 'chicago', 'archiv', 'origin', 'august', '4', '2009', 'juli', '23', '2009', 'student', 'data', 'book', 'fall', '2018', 'enrol', 'pdf', 'univers', 'chicago', 'fall', '2018', 'april', '27', '2019', 'univers', 'chicago', 'key', 'fact', 'pdf', 'univers', 'chicago', '21', '2010', 'rank', 'world', 'univers', '2019', 'usa', 'shanghai', 'rank', 'consult', 'august', '16', '2019', 'america', 'top', '2019', 'forb', 'august', '15', '2019', 'us', 'rank', '2020', 'wall', 'street', 'higher', 'educ', '26', '2019', 'best', '2020', 'nation', 'univers', 'rank', 'us', 'news', 'world', 'report', '8', '2019', '2019', 'nation', 'univers', 'rank', 'washington', 'august', '20', '2019', 'rank', 'world', 'univers', '2019', 'shanghai', 'rank', 'consult', '2019', 'august', '16', '2019', 'qs', 'world', 'univers', '2020', 'quacquarelli', 'limit', '2019', 'june', '24', '2019', 'world', 'univers', 'rank', '2020', 'educ', 'ltd', '14', '2019', 'best', 'global', 'univers', 'rank', '2020', 'us', 'news', 'world', 'report', 'lp', '22', '2019', 'univers', 'chicago', '–', 'us', 'news', 'best', 'grad', 'school', 'rank', 'us', 'news', 'world', 'report', 'may', '9', '2018', 'nation', 'univers', 'rank', 'us', 'news', 'world', 'report', 'april', '27', '2019', 'top', 'public', 'school', 'june', '21', '2015', 'nation', 'univers', 'rank', '2012', '–', 'washington', 'archiv', 'origin', 'august', '30', '2012', 'june', '21', '2015', 'miss', 'help', 'world', 'univers', 'rank', 'time', 'higher', 'educ', 'august', '17', '2016', 'tyler', 'may', '30', '2012', 'best', 'young', 'huffington', 'post', 'pdf', 'indiana', 'univers', '2019', '9', '2019', 'rank', 'world', 'univers', 'social', '–', '2012', '–', '2012', 'top', '100', 'univers', 'social', '–', '2012', 'june', '21', '2015', 'rank', 'world', 'univers', 'clinic', '–', '2012', '–', '2012', 'top', '100', 'univers', 'clinic', '–', '2012', 'june', '21', '2015', 'rank', 'world', 'univers', 'life', '–', '2012', '–', '2012', 'top', '100', 'univers', 'life', '–', '2012', 'june', '21', '2015', 'rank', 'world', 'univers', 'natur', '–', '2012', '–', '2012', 'top', '100', 'univers', 'natur', '–', '2012', '7', '2015', 'best', 'busi', 'school', 'us', 'news', 'world', 'report', '2014', 'archiv', 'origin', '1', '2014', '14', 'march', '2014', 'univers', 'june', '21', '2015', 'princeton', 'review', 'top', '50', 'video', 'game', 'design', 'program', 'june', '21', '2015', 'ethnic', 'divers', 'june', '21', '2015', 'instant', 'netsch', 'uic', 'usa', 'univers', 'chicago', 'archiv', '2008', '24', '2017', 'master', 'plan', 'netsch', 'uic', 'usa', 'univers', 'chicago', 'archiv', '2008', '24', '2017', 'elev', 'walkway', 'netsch', 'uic', 'usa', 'univers', 'chicago', 'archiv', '2008', 'march', '29', '2017', 'vice', 'chancellor', 'student', 'affair', 'plan', 'pdf', 'univers', 'chicago', 'archiv', 'origin', 'pdf', '10', '2008', '5', '2008', 'new', 'student', 'fact', 'book', '2007', 'pdf', 'univers', 'chicago', 'archiv', 'origin', 'pdf', '10', '2008', '5', '2008', 'welcom', 'uic', 'univers', 'chicago', '5', '2008', 'hous', 'univers', 'chicago', '2', '2011', 'build', 'address', 'student', 'ssr', '809', 'damen', 'chicago', 'il', 'near', 'north', 'west', 'central', 'chicago', 'public', 'school', '2', '2', '2011', 'archiv', 'june', '12', '2009', 'wayback', 'machin', 'high', 'school', 'pdf', 'chicago', 'public', 'school', 'archiv', 'origin', 'pdf', 'may', '17', '2013', 'may', '17', '2013', 'light', 'brutalist', 'june', '21', '2015', 'lincoln', 'hall', 'univers', 'chicago', 'sustain', 'archiv', 'origin', 'june', '15', '2012', '12', '2011', 'grant', 'hall', 'univers', 'chicago', 'sustain', 'archiv', 'origin', 'june', '18', '2012', '12', '2011', 'busi', 'unveil', 'new', 'home', 'redesign', 'hall', 'univers', 'chicago', 'develop', 'archiv', 'origin', '15', '2012', '12', '2011', 'hall', 'leed', 'gold', 'tweet', 'univers', 'chicago', 'sustain', '9', '2012', 'east', 'side', 'space', 'committe', '–', 'meet', 'pdf', 'archiv', 'origin', 'pdf', 'juli', '30', '2010', 'januari', '14', '2010', 'sustain', 'univers', 'chicago', 'archiv', 'origin', '14', '2009', 'june', '5', '2009', 'annual', 'report', 'pdf', 'univers', 'chicago', 'archiv', 'origin', 'pdf', '15', '2012', '12', '2011', 'uic', 'climat', 'action', 'plan', 'pdf', 'univers', 'chicago', 'archiv', 'origin', 'pdf', '15', '2012', '12', '2011', 'singh', 'greek', 'life', '–', 'mission', 'januari', '15', '2012', 'extern', 'link', 'wikimedia', 'common', 'media', 'univers', 'chicago', 'edit', 'uic', 'vte', 'univers', 'chicago', 'link', 'univers', 'univers', 'side', '13', 'institut', 'establish', 'establish', 'menu', 'log', 'search', 'wikipedia', 'main', 'page', 'content', 'content', 'current', 'event', 'random', 'donat', 'wikipedia', 'wikipedia', 'store', 'interact', 'help', 'wikipedia', 'commun', 'portal', 'recent', 'chang', 'contact', 'page', 'tool', 'link', 'chang', 'upload', 'file', 'special', 'page', 'perman', 'link', 'page', 'inform', 'item', 'cite', 'page', 'project', 'wikimedia', 'common', 'download', 'pdf', 'version', 'deutsch', 'italiano', 'tagalog', '13', 'edit', 'link', 'page', 'last', 'edit', '19', '2019', 'utc', 'text', 'avail', 'common', 'term', 'may', 'use', 'site', 'agre', 'term', 'use', 'trademark', 'wikimedia', 'inc', 'nonprofit', 'organ', 'mediawiki']\n"
          ],
          "name": "stdout"
        }
      ]
    },
    {
      "cell_type": "code",
      "metadata": {
        "id": "Fzf5kUTi5Il7",
        "colab_type": "code",
        "colab": {}
      },
      "source": [
        "words_to_project=intersection(uic_tidy, vocab)\n",
        "\n",
        "#Removing numbers\n",
        "words_to_project = [x for x in words_to_project if not (x.isdigit() \n",
        "                                         or x[0] == '-' and x[1:].isdigit())]\n",
        "\n",
        "#Sampling 50 random words\n",
        "import random\n",
        "random.seed(0)\n",
        "words_to_project= random.sample(words_to_project, 50)"
      ],
      "execution_count": null,
      "outputs": []
    },
    {
      "cell_type": "code",
      "metadata": {
        "id": "Sp8YtRQB5IkF",
        "colab_type": "code",
        "colab": {}
      },
      "source": [
        "#PCA \n",
        "\n",
        "from sklearn.decomposition import PCA\n",
        "import matplotlib.pyplot as plt\n",
        "from pylab import rcParams\n",
        "rcParams['figure.figsize'] = 15, 10"
      ],
      "execution_count": null,
      "outputs": []
    },
    {
      "cell_type": "code",
      "metadata": {
        "id": "wUKV3wwc5Ifx",
        "colab_type": "code",
        "colab": {}
      },
      "source": [
        "# Converting word vocabulary to matrix form\n",
        "\n",
        "def return_matrix(word_list,dim =50):\n",
        "    word_matrix = np.random.randn(len(word_list),dim)\n",
        "    i = 0\n",
        "    for word in word_list:\n",
        "        word_matrix[i] = w2v[word]\n",
        "        i +=1\n",
        "    return word_matrix"
      ],
      "execution_count": null,
      "outputs": []
    },
    {
      "cell_type": "code",
      "metadata": {
        "id": "f_xd3m9P5IcN",
        "colab_type": "code",
        "colab": {}
      },
      "source": [
        "return_matrix_ = return_matrix(words_to_project)\n",
        "pca_ = PCA(n_components=2)\n",
        "viz_data = pca_.fit_transform(return_matrix_) "
      ],
      "execution_count": null,
      "outputs": []
    },
    {
      "cell_type": "code",
      "metadata": {
        "id": "nrpIvOt-_18h",
        "colab_type": "code",
        "colab": {
          "base_uri": "https://localhost:8080/",
          "height": 638
        },
        "outputId": "50385ea1-f381-443e-a8f8-f5a307dcdaa6"
      },
      "source": [
        "#Plotting PCA values for 50 random words\n",
        "plt.scatter(viz_data[:,0],viz_data[:,1],cmap=plt.get_cmap('Spectral'))\n",
        "for label,x,y in zip(words_to_project,viz_data[:,0],viz_data[:,1]):\n",
        "    plt.annotate(\n",
        "        label,\n",
        "        xy=(x,y),\n",
        "        xytext=(-14, 14),\n",
        "        textcoords='offset points',\n",
        "        arrowprops=dict(arrowstyle = '->', connectionstyle='arc3,rad=0')\n",
        "    )\n",
        "plt.xlabel('PCA Component 1 ')\n",
        "plt.ylabel('PCA Component 2')\n",
        "plt.title('PCA representation for Word Embedding')\n",
        "plt.xlim(-6,6)\n",
        "plt.ylim(-4,4)"
      ],
      "execution_count": null,
      "outputs": [
        {
          "output_type": "execute_result",
          "data": {
            "text/plain": [
              "(-4, 4)"
            ]
          },
          "metadata": {
            "tags": []
          },
          "execution_count": 24
        },
        {
          "output_type": "display_data",
          "data": {
            "image/png": "[encoded data removed]",
            "text/plain": [
              "<Figure size 1080x720 with 1 Axes>"
            ]
          },
          "metadata": {
            "tags": []
          }
        }
      ]
    }
  ]
}